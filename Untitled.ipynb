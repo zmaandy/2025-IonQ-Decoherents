{
 "cells": [
  {
   "cell_type": "code",
   "execution_count": 8,
   "id": "4652663d-37a4-40e5-a635-8b87ae85dce4",
   "metadata": {},
   "outputs": [
    {
     "name": "stdout",
     "output_type": "stream",
     "text": [
      "[('ZIZ', (2+0j)), ('IZI', (3+0j))]\n"
     ]
    }
   ],
   "source": [
    "from qiskit import QuantumCircuit, transpile\n",
    "from qiskit.circuit import ParameterVector\n",
    "from qiskit.quantum_info import SparsePauliOp\n",
    "from qiskit_aer import AerSimulator\n",
    "\n",
    "# Define a Pauli operator (e.g., X on the first qubit)\n",
    "\n",
    "# Create a SparsePauliOp object\n",
    "sparse_pauli_op = SparsePauliOp.from_list([(\"ZIZ\", 2), (\"IZI\", 3)])\n",
    "\n",
    "# Convert the SparsePauliOp to a full matrix\n",
    "matrix = sparse_pauli_op.to_list()\n",
    "\n",
    "# Display the matrix\n",
    "print(matrix)"
   ]
  },
  {
   "cell_type": "code",
   "execution_count": null,
   "id": "6cd85fa3-6251-479a-93c0-2372f412a119",
   "metadata": {},
   "outputs": [],
   "source": []
  }
 ],
 "metadata": {
  "kernelspec": {
   "display_name": "Python 3 (ipykernel)",
   "language": "python",
   "name": "python3"
  },
  "language_info": {
   "codemirror_mode": {
    "name": "ipython",
    "version": 3
   },
   "file_extension": ".py",
   "mimetype": "text/x-python",
   "name": "python",
   "nbconvert_exporter": "python",
   "pygments_lexer": "ipython3",
   "version": "3.12.1"
  }
 },
 "nbformat": 4,
 "nbformat_minor": 5
}
